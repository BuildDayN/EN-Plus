{
 "cells": [
  {
   "cell_type": "code",
   "execution_count": 21,
   "metadata": {},
   "outputs": [
    {
     "ename": "SyntaxError",
     "evalue": "invalid syntax (<ipython-input-21-703813f1a6f0>, line 14)",
     "output_type": "error",
     "traceback": [
      "\u001b[0;36m  File \u001b[0;32m\"<ipython-input-21-703813f1a6f0>\"\u001b[0;36m, line \u001b[0;32m14\u001b[0m\n\u001b[0;31m    [r'$-2\\pi$', r'$-\\pi$', r'$0$', r'$\\pi$', r'$2\\pi$'])\u001b[0m\n\u001b[0m                                                        ^\u001b[0m\n\u001b[0;31mSyntaxError\u001b[0m\u001b[0;31m:\u001b[0m invalid syntax\n"
     ]
    }
   ],
   "source": [
    "%matplotlib inline\n",
    "from matplotlib import pyplot\n",
    "pyplot.rcParams['font.family'] = 'IPAPGothic'\n",
    "import numpy\n",
    "x = numpy.linspace(-numpy.pi * 2, numpy.pi * 2, 1024, endpoint = True)\n",
    "pyplot.figure(figsize = (11, 7))\n",
    "y_sin = numpy.sin(x)\n",
    "y_cos = numpy.cos(x)\n",
    "pyplot.plot(x, y_sin, color='blue', linewidth=2.0)\n",
    "pyplot.plot(x, y_cos, color='red', linewidth=2.0)\n",
    "pyplot.xlim(x.min() * 1.2, x.max() * 1.2)\n",
    "pyplot.ylim(y_sin.min() * 1.2, y_sin.max() * 1.2)\n",
    "pyplot.xticks([-numpy.pi * 2, -numpy.pi, 0, numpy.pi, numpy.pi * 2],\n",
    "              [r'$-2\\pi$', r'$-\\pi$', r'$0$', r'$\\pi$', r'$2\\pi$'])  #\n",
    "pyplot.yticks([-1, -0.5, 0, 0.5, 1],\n",
    "              [r'$-1.0$', r'$-0.5$', r'$0.0$', r'$0.5$', r'$1.0$'])\n",
    "\n",
    "pyplot.show()"
   ]
  }
 ],
 "metadata": {
  "kernelspec": {
   "display_name": "Python 3",
   "language": "python",
   "name": "python3"
  },
  "language_info": {
   "codemirror_mode": {
    "name": "ipython",
    "version": 3
   },
   "file_extension": ".py",
   "mimetype": "text/x-python",
   "name": "python",
   "nbconvert_exporter": "python",
   "pygments_lexer": "ipython3",
   "version": "3.6.5"
  }
 },
 "nbformat": 4,
 "nbformat_minor": 2
}
